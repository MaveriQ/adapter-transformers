{
 "cells": [
  {
   "cell_type": "code",
   "execution_count": 35,
   "id": "5eed650a-b6c5-4b68-8b25-3bf85746cfd3",
   "metadata": {
    "tags": []
   },
   "outputs": [],
   "source": [
    "from transformers import LiltAdapterModel, LiltConfig, LiltForSequenceClassification, HarrysConfig, LiltForTokenClassification, LiltForPretraining\n",
    "from transformers import AutoModelForSequenceClassification"
   ]
  },
  {
   "cell_type": "code",
   "execution_count": 2,
   "id": "12a486eb-388c-4620-a357-cf2c227f6cf1",
   "metadata": {
    "tags": []
   },
   "outputs": [],
   "source": [
    "config = LiltConfig.from_pretrained('SCUT-DLVCLab/lilt-infoxlm-base')"
   ]
  },
  {
   "cell_type": "code",
   "execution_count": 36,
   "id": "d38145bb-b475-4bdb-9ec2-d1c114d2ecba",
   "metadata": {
    "tags": []
   },
   "outputs": [
    {
     "name": "stderr",
     "output_type": "stream",
     "text": [
      "Some weights of LiltForPretraining were not initialized from the model checkpoint at SCUT-DLVCLab/lilt-infoxlm-base and are newly initialized: ['lm_head.cai_head.bias', 'lm_head.mvlm_head.dense.bias', 'lm_head.cai_head.decoder.weight', 'lm_head.kpl_head.layer_norm.weight', 'lm_head.kpl_head.dense.bias', 'lm_head.cai_head.decoder.bias', 'lm_head.kpl_head.bias', 'lm_head.cai_head.dense.weight', 'lm_head.cai_head.layer_norm.weight', 'lm_head.mvlm_head.dense.weight', 'lm_head.kpl_head.decoder.weight', 'lm_head.kpl_head.decoder.bias', 'lm_head.cai_head.dense.bias', 'lm_head.mvlm_head.bias', 'lm_head.mvlm_head.layer_norm.bias', 'lm_head.kpl_head.layer_norm.bias', 'lm_head.kpl_head.dense.weight', 'lm_head.cai_head.layer_norm.bias', 'lm_head.mvlm_head.layer_norm.weight']\n",
      "You should probably TRAIN this model on a down-stream task to be able to use it for predictions and inference.\n"
     ]
    }
   ],
   "source": [
    "model = LiltForPretraining.from_pretrained('SCUT-DLVCLab/lilt-infoxlm-base')"
   ]
  },
  {
   "cell_type": "code",
   "execution_count": 37,
   "id": "da9d066f-b91a-42ec-b581-0a256d23c3f0",
   "metadata": {
    "tags": []
   },
   "outputs": [
    {
     "data": {
      "text/plain": [
       "LiltLayer(\n",
       "  (attention): LiltAttention(\n",
       "    (self): LiltSelfAttention(\n",
       "      (query): Linear(in_features=768, out_features=768, bias=True)\n",
       "      (key): Linear(in_features=768, out_features=768, bias=True)\n",
       "      (value): Linear(in_features=768, out_features=768, bias=True)\n",
       "      (layout_query): Linear(in_features=192, out_features=192, bias=True)\n",
       "      (layout_key): Linear(in_features=192, out_features=192, bias=True)\n",
       "      (layout_value): Linear(in_features=192, out_features=192, bias=True)\n",
       "      (dropout): Dropout(p=0.1, inplace=False)\n",
       "    )\n",
       "    (output): LiltSelfOutput(\n",
       "      (dense): Linear(in_features=768, out_features=768, bias=True)\n",
       "      (LayerNorm): LayerNorm((768,), eps=1e-05, elementwise_affine=True)\n",
       "      (dropout): Dropout(p=0.1, inplace=False)\n",
       "      (adapters): ModuleDict()\n",
       "      (adapter_fusion_layer): ModuleDict()\n",
       "    )\n",
       "    (layout_output): LiltSelfOutput(\n",
       "      (dense): Linear(in_features=192, out_features=192, bias=True)\n",
       "      (LayerNorm): LayerNorm((192,), eps=1e-05, elementwise_affine=True)\n",
       "      (dropout): Dropout(p=0.1, inplace=False)\n",
       "      (adapters): ModuleDict()\n",
       "      (adapter_fusion_layer): ModuleDict()\n",
       "    )\n",
       "  )\n",
       "  (intermediate): LiltIntermediate(\n",
       "    (dense): Linear(in_features=768, out_features=3072, bias=True)\n",
       "    (intermediate_act_fn): GELUActivation()\n",
       "  )\n",
       "  (output): LiltOutput(\n",
       "    (dense): Linear(in_features=3072, out_features=768, bias=True)\n",
       "    (LayerNorm): LayerNorm((768,), eps=1e-05, elementwise_affine=True)\n",
       "    (dropout): Dropout(p=0.1, inplace=False)\n",
       "    (adapters): ModuleDict()\n",
       "    (adapter_fusion_layer): ModuleDict()\n",
       "  )\n",
       "  (layout_intermediate): LiltIntermediate(\n",
       "    (dense): Linear(in_features=192, out_features=768, bias=True)\n",
       "    (intermediate_act_fn): GELUActivation()\n",
       "  )\n",
       "  (layout_output): LiltOutput(\n",
       "    (dense): Linear(in_features=768, out_features=192, bias=True)\n",
       "    (LayerNorm): LayerNorm((192,), eps=1e-05, elementwise_affine=True)\n",
       "    (dropout): Dropout(p=0.1, inplace=False)\n",
       "    (adapters): ModuleDict()\n",
       "    (adapter_fusion_layer): ModuleDict()\n",
       "  )\n",
       ")"
      ]
     },
     "execution_count": 37,
     "metadata": {},
     "output_type": "execute_result"
    }
   ],
   "source": [
    "model.lilt.encoder.layer[0]"
   ]
  },
  {
   "cell_type": "code",
   "execution_count": 38,
   "id": "cb7b0919-6e6f-4cf3-82d5-3f5af09877df",
   "metadata": {
    "tags": []
   },
   "outputs": [],
   "source": [
    "text_only = HarrysConfig(text_output_adapter=True, layout_output_adapter=False)\n",
    "layout_only = HarrysConfig(text_output_adapter=False, layout_output_adapter=True)\n",
    "both = HarrysConfig(text_output_adapter=True, layout_output_adapter=True)"
   ]
  },
  {
   "cell_type": "code",
   "execution_count": 39,
   "id": "8d4a50b8-e1c8-4365-be92-bc3ba7f069b2",
   "metadata": {
    "tags": []
   },
   "outputs": [],
   "source": [
    "model.add_adapter('text_only',text_only)"
   ]
  },
  {
   "cell_type": "code",
   "execution_count": 40,
   "id": "8edd147e-5110-434d-adab-209b7846cf77",
   "metadata": {
    "tags": []
   },
   "outputs": [
    {
     "data": {
      "text/plain": [
       "LiltLayer(\n",
       "  (attention): LiltAttention(\n",
       "    (self): LiltSelfAttention(\n",
       "      (query): Linear(in_features=768, out_features=768, bias=True)\n",
       "      (key): Linear(in_features=768, out_features=768, bias=True)\n",
       "      (value): Linear(in_features=768, out_features=768, bias=True)\n",
       "      (layout_query): Linear(in_features=192, out_features=192, bias=True)\n",
       "      (layout_key): Linear(in_features=192, out_features=192, bias=True)\n",
       "      (layout_value): Linear(in_features=192, out_features=192, bias=True)\n",
       "      (dropout): Dropout(p=0.1, inplace=False)\n",
       "    )\n",
       "    (output): LiltSelfOutput(\n",
       "      (dense): Linear(in_features=768, out_features=768, bias=True)\n",
       "      (LayerNorm): LayerNorm((768,), eps=1e-05, elementwise_affine=True)\n",
       "      (dropout): Dropout(p=0.1, inplace=False)\n",
       "      (adapters): ModuleDict()\n",
       "      (adapter_fusion_layer): ModuleDict()\n",
       "    )\n",
       "    (layout_output): LiltSelfOutput(\n",
       "      (dense): Linear(in_features=192, out_features=192, bias=True)\n",
       "      (LayerNorm): LayerNorm((192,), eps=1e-05, elementwise_affine=True)\n",
       "      (dropout): Dropout(p=0.1, inplace=False)\n",
       "      (adapters): ModuleDict()\n",
       "      (adapter_fusion_layer): ModuleDict()\n",
       "    )\n",
       "  )\n",
       "  (intermediate): LiltIntermediate(\n",
       "    (dense): Linear(in_features=768, out_features=3072, bias=True)\n",
       "    (intermediate_act_fn): GELUActivation()\n",
       "  )\n",
       "  (output): LiltOutput(\n",
       "    (dense): Linear(in_features=3072, out_features=768, bias=True)\n",
       "    (LayerNorm): LayerNorm((768,), eps=1e-05, elementwise_affine=True)\n",
       "    (dropout): Dropout(p=0.1, inplace=False)\n",
       "    (adapters): ModuleDict(\n",
       "      (text_only): Adapter(\n",
       "        (non_linearity): Activation_Function_Class(\n",
       "          (f): ReLU()\n",
       "        )\n",
       "        (adapter_down): Sequential(\n",
       "          (0): Linear(in_features=768, out_features=48, bias=True)\n",
       "          (1): Activation_Function_Class(\n",
       "            (f): ReLU()\n",
       "          )\n",
       "        )\n",
       "        (adapter_up): Linear(in_features=48, out_features=768, bias=True)\n",
       "      )\n",
       "    )\n",
       "    (adapter_fusion_layer): ModuleDict()\n",
       "  )\n",
       "  (layout_intermediate): LiltIntermediate(\n",
       "    (dense): Linear(in_features=192, out_features=768, bias=True)\n",
       "    (intermediate_act_fn): GELUActivation()\n",
       "  )\n",
       "  (layout_output): LiltOutput(\n",
       "    (dense): Linear(in_features=768, out_features=192, bias=True)\n",
       "    (LayerNorm): LayerNorm((192,), eps=1e-05, elementwise_affine=True)\n",
       "    (dropout): Dropout(p=0.1, inplace=False)\n",
       "    (adapters): ModuleDict()\n",
       "    (adapter_fusion_layer): ModuleDict()\n",
       "  )\n",
       ")"
      ]
     },
     "execution_count": 40,
     "metadata": {},
     "output_type": "execute_result"
    }
   ],
   "source": [
    "model.lilt.encoder.layer[0]"
   ]
  },
  {
   "cell_type": "code",
   "execution_count": 27,
   "id": "85c8b997-1986-43c3-9ff4-ef20a44d8da7",
   "metadata": {
    "tags": []
   },
   "outputs": [],
   "source": [
    "model.add_adapter('layout_only',layout_only)"
   ]
  },
  {
   "cell_type": "code",
   "execution_count": 28,
   "id": "7da7cc28-8155-451b-9ec0-79f2b01b5c50",
   "metadata": {
    "tags": []
   },
   "outputs": [
    {
     "data": {
      "text/plain": [
       "LiltLayer(\n",
       "  (attention): LiltAttention(\n",
       "    (self): LiltSelfAttention(\n",
       "      (query): Linear(in_features=768, out_features=768, bias=True)\n",
       "      (key): Linear(in_features=768, out_features=768, bias=True)\n",
       "      (value): Linear(in_features=768, out_features=768, bias=True)\n",
       "      (layout_query): Linear(in_features=192, out_features=192, bias=True)\n",
       "      (layout_key): Linear(in_features=192, out_features=192, bias=True)\n",
       "      (layout_value): Linear(in_features=192, out_features=192, bias=True)\n",
       "      (dropout): Dropout(p=0.1, inplace=False)\n",
       "    )\n",
       "    (output): LiltSelfOutput(\n",
       "      (dense): Linear(in_features=768, out_features=768, bias=True)\n",
       "      (LayerNorm): LayerNorm((768,), eps=1e-05, elementwise_affine=True)\n",
       "      (dropout): Dropout(p=0.1, inplace=False)\n",
       "      (adapters): ModuleDict()\n",
       "      (adapter_fusion_layer): ModuleDict()\n",
       "    )\n",
       "    (layout_output): LiltSelfOutput(\n",
       "      (dense): Linear(in_features=192, out_features=192, bias=True)\n",
       "      (LayerNorm): LayerNorm((192,), eps=1e-05, elementwise_affine=True)\n",
       "      (dropout): Dropout(p=0.1, inplace=False)\n",
       "      (adapters): ModuleDict()\n",
       "      (adapter_fusion_layer): ModuleDict()\n",
       "    )\n",
       "  )\n",
       "  (intermediate): LiltIntermediate(\n",
       "    (dense): Linear(in_features=768, out_features=3072, bias=True)\n",
       "    (intermediate_act_fn): GELUActivation()\n",
       "  )\n",
       "  (output): LiltOutput(\n",
       "    (dense): Linear(in_features=3072, out_features=768, bias=True)\n",
       "    (LayerNorm): LayerNorm((768,), eps=1e-05, elementwise_affine=True)\n",
       "    (dropout): Dropout(p=0.1, inplace=False)\n",
       "    (adapters): ModuleDict(\n",
       "      (text_only): Adapter(\n",
       "        (non_linearity): Activation_Function_Class(\n",
       "          (f): ReLU()\n",
       "        )\n",
       "        (adapter_down): Sequential(\n",
       "          (0): Linear(in_features=768, out_features=48, bias=True)\n",
       "          (1): Activation_Function_Class(\n",
       "            (f): ReLU()\n",
       "          )\n",
       "        )\n",
       "        (adapter_up): Linear(in_features=48, out_features=768, bias=True)\n",
       "      )\n",
       "    )\n",
       "    (adapter_fusion_layer): ModuleDict()\n",
       "  )\n",
       "  (layout_intermediate): LiltIntermediate(\n",
       "    (dense): Linear(in_features=192, out_features=768, bias=True)\n",
       "    (intermediate_act_fn): GELUActivation()\n",
       "  )\n",
       "  (layout_output): LiltOutput(\n",
       "    (dense): Linear(in_features=768, out_features=192, bias=True)\n",
       "    (LayerNorm): LayerNorm((192,), eps=1e-05, elementwise_affine=True)\n",
       "    (dropout): Dropout(p=0.1, inplace=False)\n",
       "    (adapters): ModuleDict(\n",
       "      (layout_only): Adapter(\n",
       "        (non_linearity): Activation_Function_Class(\n",
       "          (f): ReLU()\n",
       "        )\n",
       "        (adapter_down): Sequential(\n",
       "          (0): Linear(in_features=192, out_features=48, bias=True)\n",
       "          (1): Activation_Function_Class(\n",
       "            (f): ReLU()\n",
       "          )\n",
       "        )\n",
       "        (adapter_up): Linear(in_features=48, out_features=192, bias=True)\n",
       "      )\n",
       "    )\n",
       "    (adapter_fusion_layer): ModuleDict()\n",
       "  )\n",
       ")"
      ]
     },
     "execution_count": 28,
     "metadata": {},
     "output_type": "execute_result"
    }
   ],
   "source": [
    "model.lilt.encoder.layer[0]"
   ]
  },
  {
   "cell_type": "code",
   "execution_count": 29,
   "id": "6be61b20-60e7-4723-bb49-2438731abadd",
   "metadata": {
    "tags": []
   },
   "outputs": [],
   "source": [
    "model.delete_adapter('text_only')"
   ]
  },
  {
   "cell_type": "code",
   "execution_count": 30,
   "id": "a38af093-1dae-41a6-bd00-5c87d1402a66",
   "metadata": {
    "tags": []
   },
   "outputs": [
    {
     "data": {
      "text/plain": [
       "LiltLayer(\n",
       "  (attention): LiltAttention(\n",
       "    (self): LiltSelfAttention(\n",
       "      (query): Linear(in_features=768, out_features=768, bias=True)\n",
       "      (key): Linear(in_features=768, out_features=768, bias=True)\n",
       "      (value): Linear(in_features=768, out_features=768, bias=True)\n",
       "      (layout_query): Linear(in_features=192, out_features=192, bias=True)\n",
       "      (layout_key): Linear(in_features=192, out_features=192, bias=True)\n",
       "      (layout_value): Linear(in_features=192, out_features=192, bias=True)\n",
       "      (dropout): Dropout(p=0.1, inplace=False)\n",
       "    )\n",
       "    (output): LiltSelfOutput(\n",
       "      (dense): Linear(in_features=768, out_features=768, bias=True)\n",
       "      (LayerNorm): LayerNorm((768,), eps=1e-05, elementwise_affine=True)\n",
       "      (dropout): Dropout(p=0.1, inplace=False)\n",
       "      (adapters): ModuleDict()\n",
       "      (adapter_fusion_layer): ModuleDict()\n",
       "    )\n",
       "    (layout_output): LiltSelfOutput(\n",
       "      (dense): Linear(in_features=192, out_features=192, bias=True)\n",
       "      (LayerNorm): LayerNorm((192,), eps=1e-05, elementwise_affine=True)\n",
       "      (dropout): Dropout(p=0.1, inplace=False)\n",
       "      (adapters): ModuleDict()\n",
       "      (adapter_fusion_layer): ModuleDict()\n",
       "    )\n",
       "  )\n",
       "  (intermediate): LiltIntermediate(\n",
       "    (dense): Linear(in_features=768, out_features=3072, bias=True)\n",
       "    (intermediate_act_fn): GELUActivation()\n",
       "  )\n",
       "  (output): LiltOutput(\n",
       "    (dense): Linear(in_features=3072, out_features=768, bias=True)\n",
       "    (LayerNorm): LayerNorm((768,), eps=1e-05, elementwise_affine=True)\n",
       "    (dropout): Dropout(p=0.1, inplace=False)\n",
       "    (adapters): ModuleDict()\n",
       "    (adapter_fusion_layer): ModuleDict()\n",
       "  )\n",
       "  (layout_intermediate): LiltIntermediate(\n",
       "    (dense): Linear(in_features=192, out_features=768, bias=True)\n",
       "    (intermediate_act_fn): GELUActivation()\n",
       "  )\n",
       "  (layout_output): LiltOutput(\n",
       "    (dense): Linear(in_features=768, out_features=192, bias=True)\n",
       "    (LayerNorm): LayerNorm((192,), eps=1e-05, elementwise_affine=True)\n",
       "    (dropout): Dropout(p=0.1, inplace=False)\n",
       "    (adapters): ModuleDict(\n",
       "      (layout_only): Adapter(\n",
       "        (non_linearity): Activation_Function_Class(\n",
       "          (f): ReLU()\n",
       "        )\n",
       "        (adapter_down): Sequential(\n",
       "          (0): Linear(in_features=192, out_features=48, bias=True)\n",
       "          (1): Activation_Function_Class(\n",
       "            (f): ReLU()\n",
       "          )\n",
       "        )\n",
       "        (adapter_up): Linear(in_features=48, out_features=192, bias=True)\n",
       "      )\n",
       "    )\n",
       "    (adapter_fusion_layer): ModuleDict()\n",
       "  )\n",
       ")"
      ]
     },
     "execution_count": 30,
     "metadata": {},
     "output_type": "execute_result"
    }
   ],
   "source": [
    "model.lilt.encoder.layer[0]"
   ]
  },
  {
   "cell_type": "code",
   "execution_count": 31,
   "id": "7f9ebebf-4c25-4455-9506-71b62c872e63",
   "metadata": {
    "tags": []
   },
   "outputs": [],
   "source": [
    "model.delete_adapter('layout_only')"
   ]
  },
  {
   "cell_type": "code",
   "execution_count": 32,
   "id": "e3e58fb4-fd60-4c39-89ab-04ce97cda3d2",
   "metadata": {
    "tags": []
   },
   "outputs": [
    {
     "data": {
      "text/plain": [
       "LiltLayer(\n",
       "  (attention): LiltAttention(\n",
       "    (self): LiltSelfAttention(\n",
       "      (query): Linear(in_features=768, out_features=768, bias=True)\n",
       "      (key): Linear(in_features=768, out_features=768, bias=True)\n",
       "      (value): Linear(in_features=768, out_features=768, bias=True)\n",
       "      (layout_query): Linear(in_features=192, out_features=192, bias=True)\n",
       "      (layout_key): Linear(in_features=192, out_features=192, bias=True)\n",
       "      (layout_value): Linear(in_features=192, out_features=192, bias=True)\n",
       "      (dropout): Dropout(p=0.1, inplace=False)\n",
       "    )\n",
       "    (output): LiltSelfOutput(\n",
       "      (dense): Linear(in_features=768, out_features=768, bias=True)\n",
       "      (LayerNorm): LayerNorm((768,), eps=1e-05, elementwise_affine=True)\n",
       "      (dropout): Dropout(p=0.1, inplace=False)\n",
       "      (adapters): ModuleDict()\n",
       "      (adapter_fusion_layer): ModuleDict()\n",
       "    )\n",
       "    (layout_output): LiltSelfOutput(\n",
       "      (dense): Linear(in_features=192, out_features=192, bias=True)\n",
       "      (LayerNorm): LayerNorm((192,), eps=1e-05, elementwise_affine=True)\n",
       "      (dropout): Dropout(p=0.1, inplace=False)\n",
       "      (adapters): ModuleDict()\n",
       "      (adapter_fusion_layer): ModuleDict()\n",
       "    )\n",
       "  )\n",
       "  (intermediate): LiltIntermediate(\n",
       "    (dense): Linear(in_features=768, out_features=3072, bias=True)\n",
       "    (intermediate_act_fn): GELUActivation()\n",
       "  )\n",
       "  (output): LiltOutput(\n",
       "    (dense): Linear(in_features=3072, out_features=768, bias=True)\n",
       "    (LayerNorm): LayerNorm((768,), eps=1e-05, elementwise_affine=True)\n",
       "    (dropout): Dropout(p=0.1, inplace=False)\n",
       "    (adapters): ModuleDict()\n",
       "    (adapter_fusion_layer): ModuleDict()\n",
       "  )\n",
       "  (layout_intermediate): LiltIntermediate(\n",
       "    (dense): Linear(in_features=192, out_features=768, bias=True)\n",
       "    (intermediate_act_fn): GELUActivation()\n",
       "  )\n",
       "  (layout_output): LiltOutput(\n",
       "    (dense): Linear(in_features=768, out_features=192, bias=True)\n",
       "    (LayerNorm): LayerNorm((192,), eps=1e-05, elementwise_affine=True)\n",
       "    (dropout): Dropout(p=0.1, inplace=False)\n",
       "    (adapters): ModuleDict()\n",
       "    (adapter_fusion_layer): ModuleDict()\n",
       "  )\n",
       ")"
      ]
     },
     "execution_count": 32,
     "metadata": {},
     "output_type": "execute_result"
    }
   ],
   "source": [
    "model.lilt.encoder.layer[0]"
   ]
  },
  {
   "cell_type": "code",
   "execution_count": 33,
   "id": "cd5fa6bb-7c8c-4789-9a2a-8905fc71905b",
   "metadata": {
    "tags": []
   },
   "outputs": [],
   "source": [
    "model.add_adapter('both',both)"
   ]
  },
  {
   "cell_type": "code",
   "execution_count": 34,
   "id": "60adea18-e445-4d69-82d5-eab66645295f",
   "metadata": {
    "tags": []
   },
   "outputs": [
    {
     "data": {
      "text/plain": [
       "LiltLayer(\n",
       "  (attention): LiltAttention(\n",
       "    (self): LiltSelfAttention(\n",
       "      (query): Linear(in_features=768, out_features=768, bias=True)\n",
       "      (key): Linear(in_features=768, out_features=768, bias=True)\n",
       "      (value): Linear(in_features=768, out_features=768, bias=True)\n",
       "      (layout_query): Linear(in_features=192, out_features=192, bias=True)\n",
       "      (layout_key): Linear(in_features=192, out_features=192, bias=True)\n",
       "      (layout_value): Linear(in_features=192, out_features=192, bias=True)\n",
       "      (dropout): Dropout(p=0.1, inplace=False)\n",
       "    )\n",
       "    (output): LiltSelfOutput(\n",
       "      (dense): Linear(in_features=768, out_features=768, bias=True)\n",
       "      (LayerNorm): LayerNorm((768,), eps=1e-05, elementwise_affine=True)\n",
       "      (dropout): Dropout(p=0.1, inplace=False)\n",
       "      (adapters): ModuleDict()\n",
       "      (adapter_fusion_layer): ModuleDict()\n",
       "    )\n",
       "    (layout_output): LiltSelfOutput(\n",
       "      (dense): Linear(in_features=192, out_features=192, bias=True)\n",
       "      (LayerNorm): LayerNorm((192,), eps=1e-05, elementwise_affine=True)\n",
       "      (dropout): Dropout(p=0.1, inplace=False)\n",
       "      (adapters): ModuleDict()\n",
       "      (adapter_fusion_layer): ModuleDict()\n",
       "    )\n",
       "  )\n",
       "  (intermediate): LiltIntermediate(\n",
       "    (dense): Linear(in_features=768, out_features=3072, bias=True)\n",
       "    (intermediate_act_fn): GELUActivation()\n",
       "  )\n",
       "  (output): LiltOutput(\n",
       "    (dense): Linear(in_features=3072, out_features=768, bias=True)\n",
       "    (LayerNorm): LayerNorm((768,), eps=1e-05, elementwise_affine=True)\n",
       "    (dropout): Dropout(p=0.1, inplace=False)\n",
       "    (adapters): ModuleDict(\n",
       "      (both): Adapter(\n",
       "        (non_linearity): Activation_Function_Class(\n",
       "          (f): ReLU()\n",
       "        )\n",
       "        (adapter_down): Sequential(\n",
       "          (0): Linear(in_features=768, out_features=48, bias=True)\n",
       "          (1): Activation_Function_Class(\n",
       "            (f): ReLU()\n",
       "          )\n",
       "        )\n",
       "        (adapter_up): Linear(in_features=48, out_features=768, bias=True)\n",
       "      )\n",
       "    )\n",
       "    (adapter_fusion_layer): ModuleDict()\n",
       "  )\n",
       "  (layout_intermediate): LiltIntermediate(\n",
       "    (dense): Linear(in_features=192, out_features=768, bias=True)\n",
       "    (intermediate_act_fn): GELUActivation()\n",
       "  )\n",
       "  (layout_output): LiltOutput(\n",
       "    (dense): Linear(in_features=768, out_features=192, bias=True)\n",
       "    (LayerNorm): LayerNorm((192,), eps=1e-05, elementwise_affine=True)\n",
       "    (dropout): Dropout(p=0.1, inplace=False)\n",
       "    (adapters): ModuleDict(\n",
       "      (both): Adapter(\n",
       "        (non_linearity): Activation_Function_Class(\n",
       "          (f): ReLU()\n",
       "        )\n",
       "        (adapter_down): Sequential(\n",
       "          (0): Linear(in_features=192, out_features=48, bias=True)\n",
       "          (1): Activation_Function_Class(\n",
       "            (f): ReLU()\n",
       "          )\n",
       "        )\n",
       "        (adapter_up): Linear(in_features=48, out_features=192, bias=True)\n",
       "      )\n",
       "    )\n",
       "    (adapter_fusion_layer): ModuleDict()\n",
       "  )\n",
       ")"
      ]
     },
     "execution_count": 34,
     "metadata": {},
     "output_type": "execute_result"
    }
   ],
   "source": [
    "model.lilt.encoder.layer[0]"
   ]
  },
  {
   "cell_type": "code",
   "execution_count": 19,
   "id": "96354d77-d63c-49a3-a644-3dd6571cbf48",
   "metadata": {
    "tags": []
   },
   "outputs": [],
   "source": [
    "model.delete_adapter('both')"
   ]
  },
  {
   "cell_type": "code",
   "execution_count": 20,
   "id": "facc8dd2-5fa2-49af-a3b4-b86efafb3e66",
   "metadata": {
    "tags": []
   },
   "outputs": [],
   "source": [
    "model.add_adapter('task',text_only)\n",
    "model.add_adapter('language',text_only)\n",
    "model.add_adapter('layout',layout_only)"
   ]
  },
  {
   "cell_type": "code",
   "execution_count": 21,
   "id": "0f6a5bbb-c22d-46e8-9523-6d1bf4391e8d",
   "metadata": {
    "tags": []
   },
   "outputs": [
    {
     "data": {
      "text/plain": [
       "LiltLayer(\n",
       "  (attention): LiltAttention(\n",
       "    (self): LiltSelfAttention(\n",
       "      (query): Linear(in_features=768, out_features=768, bias=True)\n",
       "      (key): Linear(in_features=768, out_features=768, bias=True)\n",
       "      (value): Linear(in_features=768, out_features=768, bias=True)\n",
       "      (layout_query): Linear(in_features=192, out_features=192, bias=True)\n",
       "      (layout_key): Linear(in_features=192, out_features=192, bias=True)\n",
       "      (layout_value): Linear(in_features=192, out_features=192, bias=True)\n",
       "      (dropout): Dropout(p=0.1, inplace=False)\n",
       "    )\n",
       "    (output): LiltSelfOutput(\n",
       "      (dense): Linear(in_features=768, out_features=768, bias=True)\n",
       "      (LayerNorm): LayerNorm((768,), eps=1e-05, elementwise_affine=True)\n",
       "      (dropout): Dropout(p=0.1, inplace=False)\n",
       "      (adapters): ModuleDict()\n",
       "      (adapter_fusion_layer): ModuleDict()\n",
       "    )\n",
       "    (layout_output): LiltSelfOutput(\n",
       "      (dense): Linear(in_features=192, out_features=192, bias=True)\n",
       "      (LayerNorm): LayerNorm((192,), eps=1e-05, elementwise_affine=True)\n",
       "      (dropout): Dropout(p=0.1, inplace=False)\n",
       "      (adapters): ModuleDict()\n",
       "      (adapter_fusion_layer): ModuleDict()\n",
       "    )\n",
       "  )\n",
       "  (intermediate): LiltIntermediate(\n",
       "    (dense): Linear(in_features=768, out_features=3072, bias=True)\n",
       "    (intermediate_act_fn): GELUActivation()\n",
       "  )\n",
       "  (output): LiltOutput(\n",
       "    (dense): Linear(in_features=3072, out_features=768, bias=True)\n",
       "    (LayerNorm): LayerNorm((768,), eps=1e-05, elementwise_affine=True)\n",
       "    (dropout): Dropout(p=0.1, inplace=False)\n",
       "    (adapters): ModuleDict(\n",
       "      (task): Adapter(\n",
       "        (non_linearity): Activation_Function_Class(\n",
       "          (f): ReLU()\n",
       "        )\n",
       "        (adapter_down): Sequential(\n",
       "          (0): Linear(in_features=768, out_features=48, bias=True)\n",
       "          (1): Activation_Function_Class(\n",
       "            (f): ReLU()\n",
       "          )\n",
       "        )\n",
       "        (adapter_up): Linear(in_features=48, out_features=768, bias=True)\n",
       "      )\n",
       "      (language): Adapter(\n",
       "        (non_linearity): Activation_Function_Class(\n",
       "          (f): ReLU()\n",
       "        )\n",
       "        (adapter_down): Sequential(\n",
       "          (0): Linear(in_features=768, out_features=48, bias=True)\n",
       "          (1): Activation_Function_Class(\n",
       "            (f): ReLU()\n",
       "          )\n",
       "        )\n",
       "        (adapter_up): Linear(in_features=48, out_features=768, bias=True)\n",
       "      )\n",
       "    )\n",
       "    (adapter_fusion_layer): ModuleDict()\n",
       "  )\n",
       "  (layout_intermediate): LiltIntermediate(\n",
       "    (dense): Linear(in_features=192, out_features=768, bias=True)\n",
       "    (intermediate_act_fn): GELUActivation()\n",
       "  )\n",
       "  (layout_output): LiltOutput(\n",
       "    (dense): Linear(in_features=768, out_features=192, bias=True)\n",
       "    (LayerNorm): LayerNorm((192,), eps=1e-05, elementwise_affine=True)\n",
       "    (dropout): Dropout(p=0.1, inplace=False)\n",
       "    (adapters): ModuleDict(\n",
       "      (layout): Adapter(\n",
       "        (non_linearity): Activation_Function_Class(\n",
       "          (f): ReLU()\n",
       "        )\n",
       "        (adapter_down): Sequential(\n",
       "          (0): Linear(in_features=192, out_features=48, bias=True)\n",
       "          (1): Activation_Function_Class(\n",
       "            (f): ReLU()\n",
       "          )\n",
       "        )\n",
       "        (adapter_up): Linear(in_features=48, out_features=192, bias=True)\n",
       "      )\n",
       "    )\n",
       "    (adapter_fusion_layer): ModuleDict()\n",
       "  )\n",
       ")"
      ]
     },
     "execution_count": 21,
     "metadata": {},
     "output_type": "execute_result"
    }
   ],
   "source": [
    "model.lilt.encoder.layer[0]"
   ]
  },
  {
   "cell_type": "code",
   "execution_count": null,
   "id": "7d4bb330-9295-476e-8352-a9f398df79f6",
   "metadata": {},
   "outputs": [],
   "source": []
  }
 ],
 "metadata": {
  "kernelspec": {
   "display_name": "Python 3 (ipykernel)",
   "language": "python",
   "name": "python3"
  },
  "language_info": {
   "codemirror_mode": {
    "name": "ipython",
    "version": 3
   },
   "file_extension": ".py",
   "mimetype": "text/x-python",
   "name": "python",
   "nbconvert_exporter": "python",
   "pygments_lexer": "ipython3",
   "version": "3.11.0"
  }
 },
 "nbformat": 4,
 "nbformat_minor": 5
}
