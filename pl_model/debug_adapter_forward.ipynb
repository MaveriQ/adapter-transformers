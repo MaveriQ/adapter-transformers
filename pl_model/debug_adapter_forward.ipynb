{
 "cells": [
  {
   "cell_type": "code",
   "execution_count": 1,
   "id": "10e732d4-2a04-4620-9c0c-5ffcf6a12759",
   "metadata": {
    "tags": []
   },
   "outputs": [],
   "source": [
    "from transformers import LiltForPretraining, HarrysConfig, HarrysInvConfig\n",
    "from pl_lilt_datamodule import LiltPretrainingDataModule\n",
    "import argparse"
   ]
  },
  {
   "cell_type": "code",
   "execution_count": 2,
   "id": "bf359893-0aec-4cb6-b727-9ea01bbf4fb6",
   "metadata": {
    "tags": []
   },
   "outputs": [
    {
     "name": "stderr",
     "output_type": "stream",
     "text": [
      "/home/hj36wegi/.conda/envs/adapters/lib/python3.11/site-packages/transformers/models/layoutlmv2/feature_extraction_layoutlmv2.py:30: FutureWarning: The class LayoutLMv2FeatureExtractor is deprecated and will be removed in version 5 of Transformers. Please use LayoutLMv2ImageProcessor instead.\n",
      "  warnings.warn(\n"
     ]
    }
   ],
   "source": [
    "parser = argparse.ArgumentParser()\n",
    "parser = LiltPretrainingDataModule.add_model_specific_args(parser)\n",
    "args = parser.parse_args('')\n",
    "\n",
    "dm = LiltPretrainingDataModule(args)\n",
    "dm.prepare_data()\n",
    "dm.setup()\n",
    "train_loader = dm.train_dataloader()\n",
    "batch = next(iter(train_loader))"
   ]
  },
  {
   "cell_type": "code",
   "execution_count": 3,
   "id": "a6e64499-ecfc-46fa-a8f4-40c1f387ee18",
   "metadata": {
    "tags": []
   },
   "outputs": [
    {
     "data": {
      "text/plain": [
       "dict_keys(['input_ids', 'attention_mask', 'bbox', 'bbox_loc', 'input_labels', 'bbox_labels'])"
      ]
     },
     "execution_count": 3,
     "metadata": {},
     "output_type": "execute_result"
    }
   ],
   "source": [
    "batch.keys()"
   ]
  },
  {
   "cell_type": "code",
   "execution_count": 4,
   "id": "b55f5c19-60e8-4920-adb0-f4749f175c7b",
   "metadata": {
    "tags": []
   },
   "outputs": [],
   "source": [
    "lang_adapter_config = HarrysInvConfig(text_output_adapter=True, layout_output_adapter=False)\n",
    "layout_adapter_config = HarrysConfig(text_output_adapter=False, layout_output_adapter=True)\n",
    "task_adapter_config = HarrysConfig(text_output_adapter=True, layout_output_adapter=False)"
   ]
  },
  {
   "cell_type": "code",
   "execution_count": 5,
   "id": "10e92a5f-964c-4f5a-b827-e0bf6feab480",
   "metadata": {
    "tags": []
   },
   "outputs": [
    {
     "name": "stderr",
     "output_type": "stream",
     "text": [
      "Some weights of LiltForPretraining were not initialized from the model checkpoint at nielsr/lilt-xlm-roberta-base and are newly initialized: ['lm_head.cai_head.bias', 'lm_head.kpl_head.dense.weight', 'lm_head.kpl_head.layer_norm.weight', 'lm_head.kpl_head.layer_norm.bias', 'lm_head.cai_head.dense.bias', 'lm_head.mvlm_head.layer_norm.weight', 'lm_head.mvlm_head.dense.bias', 'lm_head.cai_head.decoder.bias', 'lm_head.cai_head.dense.weight', 'lm_head.kpl_head.bias', 'lm_head.cai_head.layer_norm.weight', 'lm_head.mvlm_head.bias', 'lm_head.mvlm_head.dense.weight', 'lm_head.kpl_head.decoder.weight', 'lm_head.cai_head.decoder.weight', 'lm_head.kpl_head.decoder.bias', 'lm_head.mvlm_head.layer_norm.bias', 'lm_head.kpl_head.dense.bias', 'lm_head.cai_head.layer_norm.bias']\n",
      "You should probably TRAIN this model on a down-stream task to be able to use it for predictions and inference.\n"
     ]
    }
   ],
   "source": [
    "model = LiltForPretraining.from_pretrained(\"nielsr/lilt-xlm-roberta-base\")"
   ]
  },
  {
   "cell_type": "code",
   "execution_count": 6,
   "id": "2c4f1095-1065-4215-9448-e3d735d7e4dc",
   "metadata": {
    "tags": []
   },
   "outputs": [],
   "source": [
    "model.add_adapter(\"layout\", layout_adapter_config)\n",
    "model.add_adapter(\"language\", lang_adapter_config)\n",
    "model.add_adapter(\"task\", task_adapter_config)"
   ]
  },
  {
   "cell_type": "code",
   "execution_count": 24,
   "id": "16273e19-dbe3-44b6-bd25-0a731a129f25",
   "metadata": {
    "tags": []
   },
   "outputs": [],
   "source": [
    "model.train_adapter([\"layout\",\"task\", \"language\"])\n",
    "# model.freeze_model(False)\n"
   ]
  },
  {
   "cell_type": "code",
   "execution_count": 21,
   "id": "6e0d5d09-2b37-450d-9f33-714f8c9e8c29",
   "metadata": {
    "tags": []
   },
   "outputs": [
    {
     "name": "stdout",
     "output_type": "stream",
     "text": [
      "language\n",
      "task\n",
      "layout\n",
      "language\n",
      "task\n",
      "layout\n",
      "language\n",
      "task\n",
      "layout\n",
      "language\n",
      "task\n",
      "layout\n",
      "language\n",
      "task\n",
      "layout\n",
      "language\n",
      "task\n",
      "layout\n",
      "language\n",
      "task\n",
      "layout\n",
      "language\n",
      "task\n",
      "layout\n",
      "language\n",
      "task\n",
      "layout\n",
      "language\n",
      "task\n",
      "layout\n",
      "language\n",
      "task\n",
      "layout\n",
      "language\n",
      "task\n",
      "layout\n"
     ]
    }
   ],
   "source": [
    "out = model(**batch)"
   ]
  },
  {
   "cell_type": "code",
   "execution_count": 22,
   "id": "34822d93-a6d4-42d4-b4c4-95cd761d5ddb",
   "metadata": {
    "tags": []
   },
   "outputs": [
    {
     "name": "stdout",
     "output_type": "stream",
     "text": [
      "+ output.adapters.language.adapter_down.0.weight\n",
      "+ output.adapters.language.adapter_down.0.bias\n",
      "+ output.adapters.language.adapter_up.weight\n",
      "+ output.adapters.language.adapter_up.bias\n",
      "+ output.adapters.task.adapter_down.0.weight\n",
      "+ output.adapters.task.adapter_down.0.bias\n",
      "+ output.adapters.task.adapter_up.weight\n",
      "+ output.adapters.task.adapter_up.bias\n",
      "+ layout_output.adapters.layout.adapter_down.0.weight\n",
      "+ layout_output.adapters.layout.adapter_down.0.bias\n",
      "+ layout_output.adapters.layout.adapter_up.weight\n",
      "+ layout_output.adapters.layout.adapter_up.bias\n"
     ]
    }
   ],
   "source": [
    "for n,p in model.lilt.encoder.layer[0].named_parameters():\n",
    "    if 'adapter' in n:\n",
    "        if p.requires_grad:\n",
    "            print(\"+ \" + n)\n",
    "        else:\n",
    "            print(\"- \" + n)"
   ]
  },
  {
   "cell_type": "code",
   "execution_count": 23,
   "id": "1bb177d3-df97-4d8f-bcfc-26a745295f2e",
   "metadata": {
    "tags": []
   },
   "outputs": [
    {
     "data": {
      "text/plain": [
       "Parameter containing:\n",
       "tensor([0., 0., 0., 0., 0., 0., 0., 0., 0., 0., 0., 0., 0., 0., 0., 0., 0., 0., 0., 0., 0., 0., 0., 0.,\n",
       "        0., 0., 0., 0., 0., 0., 0., 0., 0., 0., 0., 0., 0., 0., 0., 0., 0., 0., 0., 0., 0., 0., 0., 0.,\n",
       "        0., 0., 0., 0., 0., 0., 0., 0., 0., 0., 0., 0., 0., 0., 0., 0., 0., 0., 0., 0., 0., 0., 0., 0.,\n",
       "        0., 0., 0., 0., 0., 0., 0., 0., 0., 0., 0., 0., 0., 0., 0., 0., 0., 0., 0., 0., 0., 0., 0., 0.,\n",
       "        0., 0., 0., 0., 0., 0., 0., 0., 0., 0., 0., 0., 0., 0., 0., 0., 0., 0., 0., 0., 0., 0., 0., 0.,\n",
       "        0., 0., 0., 0., 0., 0., 0., 0., 0., 0., 0., 0., 0., 0., 0., 0., 0., 0., 0., 0., 0., 0., 0., 0.,\n",
       "        0., 0., 0., 0., 0., 0., 0., 0., 0., 0., 0., 0., 0., 0., 0., 0., 0., 0., 0., 0., 0., 0., 0., 0.,\n",
       "        0., 0., 0., 0., 0., 0., 0., 0., 0., 0., 0., 0., 0., 0., 0., 0., 0., 0., 0., 0., 0., 0., 0., 0.],\n",
       "       requires_grad=True)"
      ]
     },
     "execution_count": 23,
     "metadata": {},
     "output_type": "execute_result"
    }
   ],
   "source": [
    "p"
   ]
  },
  {
   "cell_type": "code",
   "execution_count": null,
   "id": "495ad303-ed75-4b34-8a01-a11e813daac6",
   "metadata": {},
   "outputs": [],
   "source": []
  }
 ],
 "metadata": {
  "kernelspec": {
   "display_name": "Python 3 (ipykernel)",
   "language": "python",
   "name": "python3"
  },
  "language_info": {
   "codemirror_mode": {
    "name": "ipython",
    "version": 3
   },
   "file_extension": ".py",
   "mimetype": "text/x-python",
   "name": "python",
   "nbconvert_exporter": "python",
   "pygments_lexer": "ipython3",
   "version": "3.11.0"
  }
 },
 "nbformat": 4,
 "nbformat_minor": 5
}
